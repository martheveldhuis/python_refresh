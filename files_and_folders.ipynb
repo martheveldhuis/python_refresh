{
 "cells": [
  {
   "cell_type": "markdown",
   "id": "ebc9a31a",
   "metadata": {},
   "source": [
    "# Opening and reading files"
   ]
  },
  {
   "cell_type": "markdown",
   "id": "9b40ff37",
   "metadata": {},
   "source": [
    "List current file path"
   ]
  },
  {
   "cell_type": "code",
   "execution_count": 1,
   "id": "9ec01be0",
   "metadata": {},
   "outputs": [
    {
     "data": {
      "text/plain": [
       "'C:\\\\Users\\\\marthe.veldhuis_nsp\\\\Documents\\\\cursussen\\\\python_refresh'"
      ]
     },
     "execution_count": 1,
     "metadata": {},
     "output_type": "execute_result"
    }
   ],
   "source": [
    "pwd"
   ]
  },
  {
   "cell_type": "markdown",
   "id": "77c1fdd7",
   "metadata": {},
   "source": [
    "Create and write file"
   ]
  },
  {
   "cell_type": "code",
   "execution_count": 2,
   "id": "1c6ac121",
   "metadata": {},
   "outputs": [],
   "source": [
    "f = open('practice.txt','w+')\n",
    "f.write('test')\n",
    "f.close()"
   ]
  },
  {
   "cell_type": "markdown",
   "id": "0e1313fe",
   "metadata": {},
   "source": [
    "Getting directories"
   ]
  },
  {
   "cell_type": "code",
   "execution_count": 6,
   "id": "6682ac3f",
   "metadata": {},
   "outputs": [
    {
     "data": {
      "text/plain": [
       "'C:\\\\Users\\\\marthe.veldhuis_nsp\\\\Documents\\\\cursussen\\\\python_refresh'"
      ]
     },
     "execution_count": 6,
     "metadata": {},
     "output_type": "execute_result"
    }
   ],
   "source": [
    "import os\n",
    "os.getcwd()"
   ]
  },
  {
   "cell_type": "code",
   "execution_count": 7,
   "id": "69c77a25",
   "metadata": {},
   "outputs": [
    {
     "data": {
      "text/plain": [
       "['.git',\n",
       " '.ipynb_checkpoints',\n",
       " 'basic_types_operations.ipynb',\n",
       " 'code_structure_errors.ipynb',\n",
       " 'cooler_operations.ipynb',\n",
       " 'decorators_generators.ipynb',\n",
       " 'OO.ipynb',\n",
       " 'practice.txt',\n",
       " 'random_useful_functions.ipynb',\n",
       " 'README.md',\n",
       " 'sum.py',\n",
       " 'test_sum.py',\n",
       " 'Untitled.ipynb',\n",
       " '__init__.py',\n",
       " '__pycache__']"
      ]
     },
     "execution_count": 7,
     "metadata": {},
     "output_type": "execute_result"
    }
   ],
   "source": [
    "os.listdir()"
   ]
  },
  {
   "cell_type": "code",
   "execution_count": 8,
   "id": "0f8f7c0a",
   "metadata": {},
   "outputs": [],
   "source": [
    "os.unlink('practice.txt')"
   ]
  },
  {
   "cell_type": "code",
   "execution_count": 9,
   "id": "9bb5096c",
   "metadata": {},
   "outputs": [
    {
     "data": {
      "text/plain": [
       "['.git',\n",
       " '.ipynb_checkpoints',\n",
       " 'basic_types_operations.ipynb',\n",
       " 'code_structure_errors.ipynb',\n",
       " 'cooler_operations.ipynb',\n",
       " 'decorators_generators.ipynb',\n",
       " 'OO.ipynb',\n",
       " 'random_useful_functions.ipynb',\n",
       " 'README.md',\n",
       " 'sum.py',\n",
       " 'test_sum.py',\n",
       " 'Untitled.ipynb',\n",
       " '__init__.py',\n",
       " '__pycache__']"
      ]
     },
     "execution_count": 9,
     "metadata": {},
     "output_type": "execute_result"
    }
   ],
   "source": [
    "os.listdir()"
   ]
  },
  {
   "cell_type": "markdown",
   "id": "ea004a32",
   "metadata": {},
   "source": [
    "Walk through folders"
   ]
  },
  {
   "cell_type": "code",
   "execution_count": 19,
   "id": "00ba0fc6",
   "metadata": {},
   "outputs": [
    {
     "name": "stdout",
     "output_type": "stream",
     "text": [
      "Currently looking at folder: top_level\n",
      "\n",
      "THE SUBFOLDERS ARE: \n",
      "\t Subfolder: .ipynb_checkpoints\n",
      "\t Subfolder: folder_level_1\n",
      "\n",
      "\n",
      "THE FILES ARE: \n",
      "\t File: file_level_1\n",
      "\n",
      "\n",
      "Currently looking at folder: top_level\\.ipynb_checkpoints\n",
      "\n",
      "THE SUBFOLDERS ARE: \n",
      "\n",
      "\n",
      "THE FILES ARE: \n",
      "\n",
      "\n",
      "Currently looking at folder: top_level\\folder_level_1\n",
      "\n",
      "THE SUBFOLDERS ARE: \n",
      "\t Subfolder: .ipynb_checkpoints\n",
      "\n",
      "\n",
      "THE FILES ARE: \n",
      "\t File: file_level_2\n",
      "\n",
      "\n",
      "Currently looking at folder: top_level\\folder_level_1\\.ipynb_checkpoints\n",
      "\n",
      "THE SUBFOLDERS ARE: \n",
      "\n",
      "\n",
      "THE FILES ARE: \n",
      "\n",
      "\n"
     ]
    }
   ],
   "source": [
    "for folder, sub_folders, files in os.walk(\"top_level\"):\n",
    "    \n",
    "    print(f\"Currently looking at folder: {folder}\\n\")\n",
    "    \n",
    "    print(\"THE SUBFOLDERS ARE: \")\n",
    "    for sub_fold in sub_folders:\n",
    "        print(f\"\\t Subfolder: {sub_fold}\")\n",
    "    print(\"\\n\")\n",
    "        \n",
    "    print(\"THE FILES ARE: \")\n",
    "    for f in files:\n",
    "        print(f\"\\t File: {f}\")\n",
    "    print(\"\\n\")"
   ]
  },
  {
   "cell_type": "markdown",
   "id": "a473c61b",
   "metadata": {},
   "source": [
    "### Zipping and unzipping"
   ]
  },
  {
   "cell_type": "code",
   "execution_count": 28,
   "id": "0a5f08ca",
   "metadata": {},
   "outputs": [],
   "source": [
    "import shutil"
   ]
  },
  {
   "cell_type": "code",
   "execution_count": 33,
   "id": "5dd56fdb",
   "metadata": {},
   "outputs": [
    {
     "data": {
      "text/plain": [
       "'C:\\\\Users\\\\marthe.veldhuis_nsp\\\\Documents\\\\cursussen\\\\python_refresh\\\\example_zip.zip'"
      ]
     },
     "execution_count": 33,
     "metadata": {},
     "output_type": "execute_result"
    }
   ],
   "source": [
    "dir_to_zip = \"C:\\\\Users\\\\marthe.veldhuis_nsp\\\\Documents\\\\cursussen\\\\python_refresh\"\n",
    "output_filename = 'example_zip'\n",
    "shutil.make_archive(output_filename,'zip', dir_to_zip)"
   ]
  },
  {
   "cell_type": "code",
   "execution_count": 34,
   "id": "9f796efd",
   "metadata": {},
   "outputs": [
    {
     "ename": "NameError",
     "evalue": "name 'dir_for_extract_result' is not defined",
     "output_type": "error",
     "traceback": [
      "\u001b[1;31m---------------------------------------------------------------------------\u001b[0m",
      "\u001b[1;31mNameError\u001b[0m                                 Traceback (most recent call last)",
      "\u001b[1;32mC:\\Users\\MARTHE~1.VEL\\AppData\\Local\\Temp/ipykernel_11600/907744860.py\u001b[0m in \u001b[0;36m<module>\u001b[1;34m\u001b[0m\n\u001b[1;32m----> 1\u001b[1;33m \u001b[0mshutil\u001b[0m\u001b[1;33m.\u001b[0m\u001b[0munpack_archive\u001b[0m\u001b[1;33m(\u001b[0m\u001b[0moutput_filename\u001b[0m\u001b[1;33m,\u001b[0m \u001b[0mdir_for_extract_result\u001b[0m\u001b[1;33m,\u001b[0m \u001b[1;34m'zip'\u001b[0m\u001b[1;33m)\u001b[0m\u001b[1;33m\u001b[0m\u001b[1;33m\u001b[0m\u001b[0m\n\u001b[0m",
      "\u001b[1;31mNameError\u001b[0m: name 'dir_for_extract_result' is not defined"
     ]
    }
   ],
   "source": [
    "shutil.unpack_archive(output_filename, dir_for_extract_result, 'zip')"
   ]
  },
  {
   "cell_type": "code",
   "execution_count": 26,
   "id": "e792545f",
   "metadata": {},
   "outputs": [],
   "source": []
  },
  {
   "cell_type": "code",
   "execution_count": null,
   "id": "331e9691",
   "metadata": {},
   "outputs": [],
   "source": []
  }
 ],
 "metadata": {
  "kernelspec": {
   "display_name": "Python 3 (ipykernel)",
   "language": "python",
   "name": "python3"
  },
  "language_info": {
   "codemirror_mode": {
    "name": "ipython",
    "version": 3
   },
   "file_extension": ".py",
   "mimetype": "text/x-python",
   "name": "python",
   "nbconvert_exporter": "python",
   "pygments_lexer": "ipython3",
   "version": "3.9.7"
  }
 },
 "nbformat": 4,
 "nbformat_minor": 5
}
