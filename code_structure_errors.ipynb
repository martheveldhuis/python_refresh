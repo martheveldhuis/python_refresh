{
 "cells": [
  {
   "cell_type": "markdown",
   "id": "902dacd1",
   "metadata": {},
   "source": [
    "# Code structure"
   ]
  },
  {
   "cell_type": "markdown",
   "id": "824ada26",
   "metadata": {},
   "source": [
    "## Main"
   ]
  },
  {
   "cell_type": "markdown",
   "id": "13d71758",
   "metadata": {},
   "source": [
    "To determine whether your code is ran directly by executing the file or indirectly by using an import from another file, you can write this bit of code. It will only pass if the code is being run directly"
   ]
  },
  {
   "cell_type": "code",
   "execution_count": 2,
   "id": "bc58eb4c",
   "metadata": {},
   "outputs": [
    {
     "name": "stdout",
     "output_type": "stream",
     "text": [
      "Hello World\n"
     ]
    }
   ],
   "source": [
    "if __name__ == \"__main__\":\n",
    "    print(\"Hello World\")"
   ]
  },
  {
   "cell_type": "markdown",
   "id": "1e3971db",
   "metadata": {},
   "source": [
    "## Modules"
   ]
  },
  {
   "cell_type": "markdown",
   "id": "bb50b0df",
   "metadata": {},
   "source": [
    "You can import code by putting an empty __init__.py file in the folder where the file is you want to import"
   ]
  },
  {
   "cell_type": "code",
   "execution_count": 5,
   "id": "b52aebea",
   "metadata": {},
   "outputs": [
    {
     "ename": "SyntaxError",
     "evalue": "invalid syntax (Temp/ipykernel_6952/3835405972.py, line 1)",
     "output_type": "error",
     "traceback": [
      "\u001b[1;36m  File \u001b[1;32m\"C:\\Users\\MARTHE~1.VEL\\AppData\\Local\\Temp/ipykernel_6952/3835405972.py\"\u001b[1;36m, line \u001b[1;32m1\u001b[0m\n\u001b[1;33m    from <folder>.<file_name> import <function>\u001b[0m\n\u001b[1;37m         ^\u001b[0m\n\u001b[1;31mSyntaxError\u001b[0m\u001b[1;31m:\u001b[0m invalid syntax\n"
     ]
    }
   ],
   "source": [
    "from <folder>.<file_name> import <function>\n",
    "from <folder> import <file_name>"
   ]
  },
  {
   "cell_type": "markdown",
   "id": "14269cfe",
   "metadata": {},
   "source": [
    "## Try and except"
   ]
  },
  {
   "cell_type": "code",
   "execution_count": 10,
   "id": "1a973c5f",
   "metadata": {},
   "outputs": [
    {
     "name": "stdout",
     "output_type": "stream",
     "text": [
      "Error: division by 0\n"
     ]
    }
   ],
   "source": [
    "result = 0\n",
    "dividor = 0\n",
    "try:\n",
    "    result = 1/dividor            # Try to do this operation\n",
    "except:\n",
    "    print(\"Error: division by 0\") # If an error occurs, do this\n",
    "else:\n",
    "    print(\"Division succesful\")   # If all goes well, do this"
   ]
  },
  {
   "cell_type": "code",
   "execution_count": 11,
   "id": "3c1d80bf",
   "metadata": {},
   "outputs": [
    {
     "name": "stdout",
     "output_type": "stream",
     "text": [
      "Division succesful\n"
     ]
    }
   ],
   "source": [
    "result = 0\n",
    "dividor = 1\n",
    "try:\n",
    "    result = 1/dividor            # Try to do this operation\n",
    "except:\n",
    "    print(\"Error: division by 0\") # If an error occurs, do this\n",
    "else:\n",
    "    print(\"Division succesful\")   # If all goes well, do this"
   ]
  },
  {
   "cell_type": "markdown",
   "id": "55e8e3ca",
   "metadata": {},
   "source": [
    "You can also catch specific errors"
   ]
  },
  {
   "cell_type": "code",
   "execution_count": 17,
   "id": "2d8f249a",
   "metadata": {},
   "outputs": [
    {
     "name": "stdout",
     "output_type": "stream",
     "text": [
      "Error: division by 0\n"
     ]
    }
   ],
   "source": [
    "result = 0\n",
    "dividor = 0\n",
    "try:\n",
    "    result = 1/dividor            # Try to do this operation\n",
    "except ZeroDivisionError:\n",
    "    print(\"Error: division by 0\") # If a ZeroDivisionError occurs, do this\n",
    "else:\n",
    "    print(\"Division succesful\")   # If all goes well, do this"
   ]
  },
  {
   "cell_type": "code",
   "execution_count": 19,
   "id": "b7bb05a1",
   "metadata": {},
   "outputs": [
    {
     "name": "stdout",
     "output_type": "stream",
     "text": [
      "Division succesful\n",
      "We are done calculating\n"
     ]
    }
   ],
   "source": [
    "result = 0\n",
    "dividor = 1\n",
    "try:\n",
    "    result = 1/dividor\n",
    "except ZeroDivisionError:\n",
    "    print(\"Error: division by 0\")\n",
    "else:\n",
    "    print(\"Division succesful\")\n",
    "finally:\n",
    "    print(\"We are done calculating\") # This will always execute"
   ]
  },
  {
   "cell_type": "markdown",
   "id": "e0577c4b",
   "metadata": {},
   "source": [
    "To keep checking add a while-loop"
   ]
  },
  {
   "cell_type": "code",
   "execution_count": 20,
   "id": "3fdf40e8",
   "metadata": {},
   "outputs": [
    {
     "name": "stdout",
     "output_type": "stream",
     "text": [
      "Error: division by 0\n",
      "We are done calculating\n",
      "Division succesful\n",
      "We are done calculating\n"
     ]
    }
   ],
   "source": [
    "result = 0\n",
    "dividor = 0\n",
    "while True:\n",
    "    try:\n",
    "        result = 1/dividor\n",
    "    except ZeroDivisionError:\n",
    "        print(\"Error: division by 0\")\n",
    "        dividor+=1\n",
    "    else:\n",
    "        print(\"Division succesful\")\n",
    "        break\n",
    "    finally:\n",
    "        print(\"We are done calculating\") "
   ]
  },
  {
   "cell_type": "markdown",
   "id": "e63c6b46",
   "metadata": {},
   "source": [
    "## Testing"
   ]
  },
  {
   "cell_type": "markdown",
   "id": "7becee3e",
   "metadata": {},
   "source": [
    "#### Cosmetic:\n",
    "- pylint\n",
    "- pyflakes\n",
    "- pep8"
   ]
  },
  {
   "cell_type": "markdown",
   "id": "dd1f9c0e",
   "metadata": {},
   "source": [
    "### unittest"
   ]
  },
  {
   "cell_type": "code",
   "execution_count": 48,
   "id": "42e7a247",
   "metadata": {},
   "outputs": [
    {
     "name": "stdout",
     "output_type": "stream",
     "text": [
      "Writing sum.py\n"
     ]
    }
   ],
   "source": [
    "%%writefile sum.py\n",
    "def sum_two(a, b):\n",
    "    return a + b"
   ]
  },
  {
   "cell_type": "code",
   "execution_count": 51,
   "id": "e888e998",
   "metadata": {},
   "outputs": [
    {
     "name": "stdout",
     "output_type": "stream",
     "text": [
      "Overwriting test_sum.py\n"
     ]
    }
   ],
   "source": [
    "%%writefile test_sum.py\n",
    "import unittest\n",
    "import sum\n",
    "\n",
    "class TestSumTwo(unittest.TestCase):\n",
    "    \n",
    "    def test_two_ints(self):\n",
    "        a = 1\n",
    "        b = 2\n",
    "        result = sum.sum_two(a, b)\n",
    "        self.assertEqual(result, 3)\n",
    "        \n",
    "if __name__ == '__main__':\n",
    "    unittest.main()"
   ]
  },
  {
   "cell_type": "code",
   "execution_count": 52,
   "id": "5bb84537",
   "metadata": {},
   "outputs": [
    {
     "name": "stderr",
     "output_type": "stream",
     "text": [
      ".\n",
      "----------------------------------------------------------------------\n",
      "Ran 1 test in 0.000s\n",
      "\n",
      "OK\n"
     ]
    }
   ],
   "source": [
    "! python test_sum.py"
   ]
  },
  {
   "cell_type": "code",
   "execution_count": null,
   "id": "18a807ed",
   "metadata": {},
   "outputs": [],
   "source": []
  }
 ],
 "metadata": {
  "kernelspec": {
   "display_name": "Python 3 (ipykernel)",
   "language": "python",
   "name": "python3"
  },
  "language_info": {
   "codemirror_mode": {
    "name": "ipython",
    "version": 3
   },
   "file_extension": ".py",
   "mimetype": "text/x-python",
   "name": "python",
   "nbconvert_exporter": "python",
   "pygments_lexer": "ipython3",
   "version": "3.9.7"
  }
 },
 "nbformat": 4,
 "nbformat_minor": 5
}
