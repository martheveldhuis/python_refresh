{
 "cells": [
  {
   "cell_type": "markdown",
   "id": "4438dff1",
   "metadata": {},
   "source": [
    "# Random useful functions / modules"
   ]
  },
  {
   "cell_type": "markdown",
   "id": "f47f3620",
   "metadata": {},
   "source": [
    "### Capitalize\n",
    "To capitalize the first letter of a sentence"
   ]
  },
  {
   "cell_type": "code",
   "execution_count": 1,
   "id": "5ea69845",
   "metadata": {},
   "outputs": [
    {
     "data": {
      "text/plain": [
       "'Hello world'"
      ]
     },
     "execution_count": 1,
     "metadata": {},
     "output_type": "execute_result"
    }
   ],
   "source": [
    "string = \"hello world\"\n",
    "string.capitalize()"
   ]
  },
  {
   "cell_type": "markdown",
   "id": "bbf8a248",
   "metadata": {},
   "source": [
    "### Title\n",
    "To capitalize the first letter of each word in the sentence"
   ]
  },
  {
   "cell_type": "code",
   "execution_count": 2,
   "id": "e6564aeb",
   "metadata": {},
   "outputs": [
    {
     "data": {
      "text/plain": [
       "'Hello World'"
      ]
     },
     "execution_count": 2,
     "metadata": {},
     "output_type": "execute_result"
    }
   ],
   "source": [
    "string = \"hello world\"\n",
    "string.title()"
   ]
  },
  {
   "cell_type": "markdown",
   "id": "f847106e",
   "metadata": {},
   "source": [
    "### All\n",
    "To determine if all elements in an iterable are True"
   ]
  },
  {
   "cell_type": "code",
   "execution_count": 4,
   "id": "3478a9f7",
   "metadata": {},
   "outputs": [
    {
     "data": {
      "text/plain": [
       "False"
      ]
     },
     "execution_count": 4,
     "metadata": {},
     "output_type": "execute_result"
    }
   ],
   "source": [
    "my_list = [True, False, True]\n",
    "all(my_list)"
   ]
  },
  {
   "cell_type": "markdown",
   "id": "59bc96b9",
   "metadata": {},
   "source": [
    "### Any\n",
    "To determine if any of the elements in an iterable are True"
   ]
  },
  {
   "cell_type": "code",
   "execution_count": 5,
   "id": "2e8253a3",
   "metadata": {},
   "outputs": [
    {
     "data": {
      "text/plain": [
       "True"
      ]
     },
     "execution_count": 5,
     "metadata": {},
     "output_type": "execute_result"
    }
   ],
   "source": [
    "my_list = [True, False, True]\n",
    "any(my_list)"
   ]
  },
  {
   "cell_type": "markdown",
   "id": "90449ffe",
   "metadata": {},
   "source": [
    "## Datetime"
   ]
  },
  {
   "cell_type": "code",
   "execution_count": 10,
   "id": "0f6e3c98",
   "metadata": {},
   "outputs": [
    {
     "name": "stdout",
     "output_type": "stream",
     "text": [
      "04:20:01\n",
      "4\n"
     ]
    }
   ],
   "source": [
    "import datetime\n",
    "\n",
    "t = datetime.time(4, 20, 1)\n",
    "print(t)\n",
    "print(t.hour)"
   ]
  },
  {
   "cell_type": "code",
   "execution_count": 13,
   "id": "0150b48a",
   "metadata": {},
   "outputs": [
    {
     "name": "stdout",
     "output_type": "stream",
     "text": [
      "2022-05-17\n",
      "2022\n"
     ]
    }
   ],
   "source": [
    "t = datetime.date.today()\n",
    "print(t)\n",
    "print(t.year)"
   ]
  },
  {
   "cell_type": "code",
   "execution_count": 17,
   "id": "1738eec9",
   "metadata": {},
   "outputs": [
    {
     "name": "stdout",
     "output_type": "stream",
     "text": [
      "31 days, 0:00:00\n"
     ]
    }
   ],
   "source": [
    "t1 = datetime.date(2015, 3, 11)\n",
    "t2 = datetime.date(2015, 4, 11)\n",
    "d = t2 - t1\n",
    "print(d)"
   ]
  },
  {
   "cell_type": "markdown",
   "id": "5f6eef51",
   "metadata": {},
   "source": [
    "## Math"
   ]
  },
  {
   "cell_type": "code",
   "execution_count": 19,
   "id": "d6cdb275",
   "metadata": {},
   "outputs": [],
   "source": [
    "import math\n",
    "\n",
    "my_val = 3.41"
   ]
  },
  {
   "cell_type": "code",
   "execution_count": 20,
   "id": "fd070964",
   "metadata": {},
   "outputs": [
    {
     "data": {
      "text/plain": [
       "4"
      ]
     },
     "execution_count": 20,
     "metadata": {},
     "output_type": "execute_result"
    }
   ],
   "source": [
    "math.ceil(my_val)"
   ]
  },
  {
   "cell_type": "code",
   "execution_count": 21,
   "id": "0bbfd97c",
   "metadata": {},
   "outputs": [
    {
     "data": {
      "text/plain": [
       "3"
      ]
     },
     "execution_count": 21,
     "metadata": {},
     "output_type": "execute_result"
    }
   ],
   "source": [
    "round(my_val)"
   ]
  },
  {
   "cell_type": "code",
   "execution_count": 22,
   "id": "143a0cab",
   "metadata": {},
   "outputs": [
    {
     "data": {
      "text/plain": [
       "3.141592653589793"
      ]
     },
     "execution_count": 22,
     "metadata": {},
     "output_type": "execute_result"
    }
   ],
   "source": [
    "math.pi"
   ]
  },
  {
   "cell_type": "code",
   "execution_count": 24,
   "id": "235856f7",
   "metadata": {},
   "outputs": [
    {
     "data": {
      "text/plain": [
       "inf"
      ]
     },
     "execution_count": 24,
     "metadata": {},
     "output_type": "execute_result"
    }
   ],
   "source": [
    "math.inf"
   ]
  },
  {
   "cell_type": "code",
   "execution_count": 25,
   "id": "64acbd02",
   "metadata": {},
   "outputs": [
    {
     "data": {
      "text/plain": [
       "nan"
      ]
     },
     "execution_count": 25,
     "metadata": {},
     "output_type": "execute_result"
    }
   ],
   "source": [
    "math.nan"
   ]
  },
  {
   "cell_type": "markdown",
   "id": "86adcf32",
   "metadata": {},
   "source": [
    "## Random"
   ]
  },
  {
   "cell_type": "code",
   "execution_count": 26,
   "id": "39ec906d",
   "metadata": {},
   "outputs": [
    {
     "data": {
      "text/plain": [
       "48"
      ]
     },
     "execution_count": 26,
     "metadata": {},
     "output_type": "execute_result"
    }
   ],
   "source": [
    "import random\n",
    "\n",
    "random.randint(0,100)"
   ]
  },
  {
   "cell_type": "code",
   "execution_count": 31,
   "id": "f384c9e7",
   "metadata": {},
   "outputs": [
    {
     "data": {
      "text/plain": [
       "[0, 1, 2, 3, 4, 5, 6, 7, 8, 9, 10, 11, 12, 13, 14, 15, 16, 17, 18, 19]"
      ]
     },
     "execution_count": 31,
     "metadata": {},
     "output_type": "execute_result"
    }
   ],
   "source": [
    "my_list = list(range(0,20))\n",
    "my_list"
   ]
  },
  {
   "cell_type": "code",
   "execution_count": 32,
   "id": "a104501e",
   "metadata": {},
   "outputs": [
    {
     "data": {
      "text/plain": [
       "18"
      ]
     },
     "execution_count": 32,
     "metadata": {},
     "output_type": "execute_result"
    }
   ],
   "source": [
    "random.choice(my_list)"
   ]
  },
  {
   "cell_type": "code",
   "execution_count": 33,
   "id": "ec7adfe6",
   "metadata": {},
   "outputs": [
    {
     "data": {
      "text/plain": [
       "[0, 18, 1, 19, 12, 16, 6, 14, 7, 8, 3, 2, 4, 15, 17, 11, 5, 13, 9, 10]"
      ]
     },
     "execution_count": 33,
     "metadata": {},
     "output_type": "execute_result"
    }
   ],
   "source": [
    "random.shuffle(my_list)\n",
    "my_list"
   ]
  },
  {
   "cell_type": "markdown",
   "id": "4820475e",
   "metadata": {},
   "source": [
    "## Regex"
   ]
  },
  {
   "cell_type": "code",
   "execution_count": 42,
   "id": "84263222",
   "metadata": {},
   "outputs": [
    {
     "name": "stdout",
     "output_type": "stream",
     "text": [
      "(20, 25)\n",
      "20\n",
      "phone\n"
     ]
    }
   ],
   "source": [
    "import re\n",
    "\n",
    "pattern = 'phone'\n",
    "match_iter = re.finditer(pattern, \"Please pick up your phone\")\n",
    "\n",
    "for match in match_iter:\n",
    "    print(match.span())\n",
    "    print(match.start())\n",
    "    print(match.group())"
   ]
  },
  {
   "cell_type": "code",
   "execution_count": 43,
   "id": "c1d1cba2",
   "metadata": {},
   "outputs": [
    {
     "data": {
      "text/plain": [
       "'408-555-1234'"
      ]
     },
     "execution_count": 43,
     "metadata": {},
     "output_type": "execute_result"
    }
   ],
   "source": [
    "text = \"My telephone number is 408-555-1234\"\n",
    "phone = re.search(r'\\d{3}-\\d{3}-\\d{4}',text)\n",
    "phone.group()"
   ]
  },
  {
   "cell_type": "markdown",
   "id": "97db15dc",
   "metadata": {},
   "source": [
    "## Timing code"
   ]
  },
  {
   "cell_type": "code",
   "execution_count": 51,
   "id": "0170e997",
   "metadata": {},
   "outputs": [
    {
     "data": {
      "text/plain": [
       "1.2634385000001203"
      ]
     },
     "execution_count": 51,
     "metadata": {},
     "output_type": "execute_result"
    }
   ],
   "source": [
    "import timeit\n",
    "\n",
    "setup = '''\n",
    "def func_one(n):\n",
    "    return [str(num) for num in range(n)]\n",
    "'''\n",
    "\n",
    "stmt = 'func_one(100)'\n",
    "\n",
    "timeit.timeit(stmt, setup, number=100000)"
   ]
  },
  {
   "cell_type": "code",
   "execution_count": 49,
   "id": "e806977d",
   "metadata": {},
   "outputs": [
    {
     "data": {
      "text/plain": [
       "0.9777726000002076"
      ]
     },
     "execution_count": 49,
     "metadata": {},
     "output_type": "execute_result"
    }
   ],
   "source": [
    "setup2 = '''\n",
    "def func_two(n):\n",
    "    return list(map(str,range(n)))\n",
    "'''\n",
    "\n",
    "stmt2 = 'func_two(100)'\n",
    "\n",
    "timeit.timeit(stmt2, setup2, number=1000000)"
   ]
  },
  {
   "cell_type": "markdown",
   "id": "4784f36c",
   "metadata": {},
   "source": [
    "## Collections\n",
    "Counter"
   ]
  },
  {
   "cell_type": "code",
   "execution_count": 52,
   "id": "61da5e2d",
   "metadata": {},
   "outputs": [
    {
     "data": {
      "text/plain": [
       "Counter({1: 4, 2: 2, 3: 1, 4: 1})"
      ]
     },
     "execution_count": 52,
     "metadata": {},
     "output_type": "execute_result"
    }
   ],
   "source": [
    "from collections import Counter\n",
    "\n",
    "my_list = [1, 1, 1, 1, 2, 2, 3, 4]\n",
    "Counter(my_list)"
   ]
  },
  {
   "cell_type": "code",
   "execution_count": 53,
   "id": "5a3e97fb",
   "metadata": {},
   "outputs": [
    {
     "data": {
      "text/plain": [
       "Counter({'This': 1, 'is': 1, 'a': 2, 'sentence': 1, 'and': 1, 'string': 1})"
      ]
     },
     "execution_count": 53,
     "metadata": {},
     "output_type": "execute_result"
    }
   ],
   "source": [
    "my_sentence = \"This is a sentence and a string\"\n",
    "\n",
    "words = my_sentence.split()\n",
    "Counter(words)"
   ]
  },
  {
   "cell_type": "code",
   "execution_count": null,
   "id": "52c70620",
   "metadata": {},
   "outputs": [],
   "source": []
  }
 ],
 "metadata": {
  "kernelspec": {
   "display_name": "Python 3 (ipykernel)",
   "language": "python",
   "name": "python3"
  },
  "language_info": {
   "codemirror_mode": {
    "name": "ipython",
    "version": 3
   },
   "file_extension": ".py",
   "mimetype": "text/x-python",
   "name": "python",
   "nbconvert_exporter": "python",
   "pygments_lexer": "ipython3",
   "version": "3.9.7"
  }
 },
 "nbformat": 4,
 "nbformat_minor": 5
}
