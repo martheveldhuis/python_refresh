{
 "cells": [
  {
   "cell_type": "markdown",
   "id": "0548a8f1",
   "metadata": {},
   "source": [
    "# Cooler operations"
   ]
  },
  {
   "cell_type": "markdown",
   "id": "6dd0bf3c",
   "metadata": {},
   "source": [
    "## Map\n",
    "Map to each other, e.g. list and function.\n",
    "Is a bit faster than list comprehensions."
   ]
  },
  {
   "cell_type": "code",
   "execution_count": 1,
   "id": "1a4b7143",
   "metadata": {},
   "outputs": [],
   "source": [
    "def square(num):\n",
    "    return num**2\n",
    "\n",
    "my_list = [1, 2, 3, 4]"
   ]
  },
  {
   "cell_type": "code",
   "execution_count": 3,
   "id": "29e7aafe",
   "metadata": {},
   "outputs": [
    {
     "data": {
      "text/plain": [
       "[1, 4, 9, 16]"
      ]
     },
     "execution_count": 3,
     "metadata": {},
     "output_type": "execute_result"
    }
   ],
   "source": [
    "list(map(square, my_list))"
   ]
  },
  {
   "cell_type": "markdown",
   "id": "35ca0453",
   "metadata": {},
   "source": [
    "## Filter\n",
    "Select a subset of a data type."
   ]
  },
  {
   "cell_type": "code",
   "execution_count": 8,
   "id": "ad9176c9",
   "metadata": {},
   "outputs": [],
   "source": [
    "def check_even(num):\n",
    "    return num % 2 == 0 \n",
    "\n",
    "my_list = [1, 2, 3, 4]"
   ]
  },
  {
   "cell_type": "code",
   "execution_count": 9,
   "id": "39222b7c",
   "metadata": {},
   "outputs": [
    {
     "data": {
      "text/plain": [
       "[2, 4]"
      ]
     },
     "execution_count": 9,
     "metadata": {},
     "output_type": "execute_result"
    }
   ],
   "source": [
    "list(filter(check_even, my_list))"
   ]
  },
  {
   "cell_type": "markdown",
   "id": "e9db84b1",
   "metadata": {},
   "source": [
    "## Lambda\n",
    "Function shorthand. Great for working with pandas (apply)."
   ]
  },
  {
   "cell_type": "code",
   "execution_count": 13,
   "id": "0ab5a445",
   "metadata": {},
   "outputs": [
    {
     "data": {
      "text/plain": [
       "[2, 4]"
      ]
     },
     "execution_count": 13,
     "metadata": {},
     "output_type": "execute_result"
    }
   ],
   "source": [
    "my_list = [1, 2, 3, 4]\n",
    "list(filter(lambda n: n % 2 == 0, my_list))"
   ]
  },
  {
   "cell_type": "code",
   "execution_count": 14,
   "id": "794941f3",
   "metadata": {},
   "outputs": [
    {
     "data": {
      "text/plain": [
       "<function __main__.<lambda>(x)>"
      ]
     },
     "execution_count": 14,
     "metadata": {},
     "output_type": "execute_result"
    }
   ],
   "source": [
    "lambda x: x[::-1]"
   ]
  },
  {
   "cell_type": "markdown",
   "id": "55f388fc",
   "metadata": {},
   "source": [
    "## Function arguments: \\*args and **kwargs"
   ]
  },
  {
   "cell_type": "markdown",
   "id": "9eca7bfb",
   "metadata": {},
   "source": [
    "They can be combined, but \\*args go before **kwargs. \"args\" and \"kwargs\" can be any word, but this is the standard.\n",
    "\n",
    "The asterisk in *args allows for an __arbitrary number__ of arguments, functions treat them as tuples. "
   ]
  },
  {
   "cell_type": "code",
   "execution_count": 20,
   "id": "2d4abb45",
   "metadata": {},
   "outputs": [
    {
     "data": {
      "text/plain": [
       "10"
      ]
     },
     "execution_count": 20,
     "metadata": {},
     "output_type": "execute_result"
    }
   ],
   "source": [
    "def myfunc(*args):\n",
    "    return sum(args)\n",
    "\n",
    "myfunc(1, 2, 3, 4)"
   ]
  },
  {
   "cell_type": "markdown",
   "id": "2cf316ec",
   "metadata": {},
   "source": [
    "The double asterisk allows for __keyworded__ arguments, functions treat them as dictionaries."
   ]
  },
  {
   "cell_type": "code",
   "execution_count": 28,
   "id": "980eb86c",
   "metadata": {},
   "outputs": [
    {
     "name": "stdout",
     "output_type": "stream",
     "text": [
      "My first number is 1 \n",
      "My second number is 2\n"
     ]
    }
   ],
   "source": [
    "def myfunc(**kwargs):\n",
    "    print(f\"My first number is {kwargs['first']} \")\n",
    "    print(f\"My second number is {kwargs['second']}\")\n",
    "\n",
    "myfunc(first=1, second=2)"
   ]
  },
  {
   "cell_type": "markdown",
   "id": "2420fd65",
   "metadata": {},
   "source": []
  },
  {
   "cell_type": "code",
   "execution_count": null,
   "id": "d714f924",
   "metadata": {},
   "outputs": [],
   "source": []
  }
 ],
 "metadata": {
  "kernelspec": {
   "display_name": "Python 3",
   "language": "python",
   "name": "python3"
  },
  "language_info": {
   "codemirror_mode": {
    "name": "ipython",
    "version": 3
   },
   "file_extension": ".py",
   "mimetype": "text/x-python",
   "name": "python",
   "nbconvert_exporter": "python",
   "pygments_lexer": "ipython3",
   "version": "3.8.8"
  }
 },
 "nbformat": 4,
 "nbformat_minor": 5
}
