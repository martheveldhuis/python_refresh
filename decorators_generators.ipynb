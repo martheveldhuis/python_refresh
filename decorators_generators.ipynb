{
 "cells": [
  {
   "cell_type": "markdown",
   "id": "b11d3d03",
   "metadata": {},
   "source": [
    "# Decorators\n",
    "\n",
    "Decorators are functions that modify functionality of other functions."
   ]
  },
  {
   "cell_type": "code",
   "execution_count": 5,
   "id": "62a2d5db",
   "metadata": {},
   "outputs": [],
   "source": [
    "def new_decorator(func):\n",
    "\n",
    "    def wrap_func():\n",
    "        print(\"Before func\")\n",
    "\n",
    "        func()\n",
    "\n",
    "        print(\"After func()\")\n",
    "\n",
    "    return wrap_func\n",
    "\n",
    "def original_func():\n",
    "    print(\"This function is in need of a Decorator\")"
   ]
  },
  {
   "cell_type": "code",
   "execution_count": 6,
   "id": "ac862838",
   "metadata": {},
   "outputs": [
    {
     "name": "stdout",
     "output_type": "stream",
     "text": [
      "This function is in need of a Decorator\n"
     ]
    }
   ],
   "source": [
    "original_func()"
   ]
  },
  {
   "cell_type": "code",
   "execution_count": 7,
   "id": "04844e14",
   "metadata": {},
   "outputs": [],
   "source": [
    "original_func = new_decorator(original_func)"
   ]
  },
  {
   "cell_type": "code",
   "execution_count": 8,
   "id": "a9162c97",
   "metadata": {},
   "outputs": [
    {
     "name": "stdout",
     "output_type": "stream",
     "text": [
      "Before func\n",
      "This function is in need of a Decorator\n",
      "After func()\n"
     ]
    }
   ],
   "source": [
    "original_func()"
   ]
  },
  {
   "cell_type": "markdown",
   "id": "277425a4",
   "metadata": {},
   "source": [
    "# Generators"
   ]
  },
  {
   "cell_type": "markdown",
   "id": "a26ebccd",
   "metadata": {},
   "source": [
    "Functions that can return a value and later resume to pick up where it left of. This allows you to generate a sequence of values over time without having to have it all in memory. Generators suspend their execution instead of running everything at front. This is called _state suspension_. The key word here is **yield**"
   ]
  },
  {
   "cell_type": "code",
   "execution_count": 12,
   "id": "3fba8cdb",
   "metadata": {},
   "outputs": [],
   "source": [
    "def square(n):\n",
    "    for num in range(n):\n",
    "        yield num**2"
   ]
  },
  {
   "cell_type": "code",
   "execution_count": 13,
   "id": "13113e16",
   "metadata": {},
   "outputs": [
    {
     "name": "stdout",
     "output_type": "stream",
     "text": [
      "0\n",
      "1\n",
      "4\n",
      "9\n",
      "16\n",
      "25\n",
      "36\n",
      "49\n",
      "64\n",
      "81\n"
     ]
    }
   ],
   "source": [
    "for x in square(10):\n",
    "    print(x)"
   ]
  },
  {
   "cell_type": "code",
   "execution_count": 23,
   "id": "f876967d",
   "metadata": {},
   "outputs": [],
   "source": [
    "def square_3():\n",
    "    for num in range(3):\n",
    "        yield num**2"
   ]
  },
  {
   "cell_type": "code",
   "execution_count": 25,
   "id": "7d2f488a",
   "metadata": {},
   "outputs": [
    {
     "name": "stdout",
     "output_type": "stream",
     "text": [
      "0\n",
      "1\n",
      "4\n"
     ]
    }
   ],
   "source": [
    "square_3_func = square_3()\n",
    "print(next(square_3_func))\n",
    "print(next(square_3_func))\n",
    "print(next(square_3_func))"
   ]
  },
  {
   "cell_type": "markdown",
   "id": "0f087bce",
   "metadata": {},
   "source": [
    "By using **iter**, we can iterate over objects that are not iterators, but are iterable."
   ]
  },
  {
   "cell_type": "code",
   "execution_count": 29,
   "id": "1cf8b28e",
   "metadata": {},
   "outputs": [
    {
     "name": "stdout",
     "output_type": "stream",
     "text": [
      "H\n",
      "e\n",
      "l\n",
      "l\n",
      "o\n"
     ]
    }
   ],
   "source": [
    "my_string = 'Hello'\n",
    "my_string_iter = iter(my_string)\n",
    "print(next(my_string_iter))\n",
    "print(next(my_string_iter))\n",
    "print(next(my_string_iter))\n",
    "print(next(my_string_iter))\n",
    "print(next(my_string_iter))"
   ]
  },
  {
   "cell_type": "code",
   "execution_count": null,
   "id": "4f23c26a",
   "metadata": {},
   "outputs": [],
   "source": []
  }
 ],
 "metadata": {
  "kernelspec": {
   "display_name": "Python 3 (ipykernel)",
   "language": "python",
   "name": "python3"
  },
  "language_info": {
   "codemirror_mode": {
    "name": "ipython",
    "version": 3
   },
   "file_extension": ".py",
   "mimetype": "text/x-python",
   "name": "python",
   "nbconvert_exporter": "python",
   "pygments_lexer": "ipython3",
   "version": "3.9.7"
  }
 },
 "nbformat": 4,
 "nbformat_minor": 5
}
