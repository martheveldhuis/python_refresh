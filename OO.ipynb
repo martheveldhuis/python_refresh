{
 "cells": [
  {
   "cell_type": "markdown",
   "id": "09d6e3af",
   "metadata": {},
   "source": [
    "# OO"
   ]
  },
  {
   "cell_type": "markdown",
   "id": "b105c5f0",
   "metadata": {},
   "source": [
    "## Abstract class\n",
    "A class that should not be instantiated."
   ]
  },
  {
   "cell_type": "code",
   "execution_count": 8,
   "id": "fcf48df2",
   "metadata": {},
   "outputs": [],
   "source": [
    "class Animal:\n",
    "    def __init__(self, name):\n",
    "        self.name = name\n",
    "\n",
    "    def speak(self):\n",
    "        raise NotImplementedError(\"Subclass must implement abstract method\")\n",
    "\n",
    "\n",
    "class Dog(Animal):\n",
    "    \n",
    "    def speak(self):\n",
    "        print(f\"{self.name} says Woof!\")"
   ]
  },
  {
   "cell_type": "code",
   "execution_count": 9,
   "id": "2d590b92",
   "metadata": {},
   "outputs": [
    {
     "name": "stdout",
     "output_type": "stream",
     "text": [
      "Summer says Woof!\n"
     ]
    }
   ],
   "source": [
    "summer = Dog(\"Summer\")\n",
    "summer.speak()"
   ]
  },
  {
   "cell_type": "markdown",
   "id": "de9486d1",
   "metadata": {},
   "source": [
    "## Specical class methods"
   ]
  },
  {
   "cell_type": "code",
   "execution_count": 13,
   "id": "8a1ac3da",
   "metadata": {},
   "outputs": [],
   "source": [
    "class Book:\n",
    "    def __init__(self, title, author, pages):\n",
    "        self.title = title\n",
    "        self.author = author\n",
    "        self.pages = pages\n",
    "\n",
    "    def __str__(self):\n",
    "        return f\"Title: {self.title}, author: {self.author}\"\n",
    "\n",
    "    def __len__(self):\n",
    "        return self.pages\n",
    "\n",
    "    def __del__(self):\n",
    "        print(\"A book is destroyed\")"
   ]
  },
  {
   "cell_type": "code",
   "execution_count": 14,
   "id": "f7829597",
   "metadata": {},
   "outputs": [
    {
     "name": "stdout",
     "output_type": "stream",
     "text": [
      "Title: A man in full, author: Tom Wolfe\n",
      "742\n",
      "A book is destroyed\n"
     ]
    }
   ],
   "source": [
    "book = Book(\"A man in full\", \"Tom Wolfe\", 742)\n",
    "print(book)\n",
    "print(len(book))\n",
    "del book"
   ]
  },
  {
   "cell_type": "code",
   "execution_count": null,
   "id": "4c2891d3",
   "metadata": {},
   "outputs": [],
   "source": []
  }
 ],
 "metadata": {
  "kernelspec": {
   "display_name": "Python 3",
   "language": "python",
   "name": "python3"
  },
  "language_info": {
   "codemirror_mode": {
    "name": "ipython",
    "version": 3
   },
   "file_extension": ".py",
   "mimetype": "text/x-python",
   "name": "python",
   "nbconvert_exporter": "python",
   "pygments_lexer": "ipython3",
   "version": "3.8.8"
  }
 },
 "nbformat": 4,
 "nbformat_minor": 5
}
